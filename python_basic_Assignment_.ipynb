{
  "nbformat": 4,
  "nbformat_minor": 0,
  "metadata": {
    "colab": {
      "provenance": []
    },
    "kernelspec": {
      "name": "python3",
      "display_name": "Python 3"
    },
    "language_info": {
      "name": "python"
    }
  },
  "cells": [
    {
      "cell_type": "markdown",
      "source": [
        "                     **Thortical Python Basics Question **\n",
        "\n",
        "\n",
        "\n",
        "\n",
        "1.  What is Python, and why is it popular\n",
        "     \n",
        "     - Python is a type of programming language — like a special language we use to talk to computers and tell them what to do.\n",
        "\n",
        "It is used to:\n",
        "\n",
        "* Build websites and apps\n",
        "\n",
        "* Do data analysis and machine learning\n",
        "\n",
        "* Automate boring tasks (like renaming files, sending emails, etc.)\n",
        "\n",
        "* Create games and software\n",
        "\n",
        "   # Why is Python so popular?\n",
        "Easy to understand: Python is like English — very simple and clean. Even beginners can read and write it easily.\n",
        "\n",
        "* Less code, more work: You can do big things with very little code.\n",
        "\n",
        "* Huge support: There are tons of free tools and libraries (ready-made code) to help you do almost anything.\n",
        "\n",
        "* Used everywhere: Big companies like Google, YouTube, and Instagram use Python.\n",
        "\n",
        "* Good for beginners AND experts: Whether you're just starting or you're a pro — Python works for everyone.\n",
        "\n",
        "  Example:"
      ],
      "metadata": {
        "id": "dHHYY-Cr67ED"
      }
    },
    {
      "cell_type": "code",
      "execution_count": 1,
      "metadata": {
        "colab": {
          "base_uri": "https://localhost:8080/"
        },
        "id": "fyoctObl6dnH",
        "outputId": "953bd056-1af5-4b5b-db36-161d34806dbc"
      },
      "outputs": [
        {
          "output_type": "stream",
          "name": "stdout",
          "text": [
            "Hello Sumit\n"
          ]
        }
      ],
      "source": [
        "print(\"Hello Sumit\")"
      ]
    },
    {
      "cell_type": "markdown",
      "source": [
        "  \n",
        "\n",
        "2.   What is an interpreter in Python\n",
        "     \n",
        "  - An interpreter is like a translator between we and the computer.\n",
        "  * The interpreter reads your code line by line\n",
        "  * It understands what you wrote\n",
        "  * Then it tells the computer what to do\n",
        "    **Note* ->\n",
        "              Python Interpreter = The tool that reads your Python code and runs it.\n",
        "              Without it, the computer wouldn't understand your code"
      ],
      "metadata": {
        "id": "jUchVYo7AtW6"
      }
    },
    {
      "cell_type": "code",
      "source": [
        "print(\"Hello Python\")"
      ],
      "metadata": {
        "colab": {
          "base_uri": "https://localhost:8080/"
        },
        "id": "sWZKx9bpAJ6Z",
        "outputId": "431a6d65-7cfd-400b-e0fb-7eb90c5ae8ad"
      },
      "execution_count": 2,
      "outputs": [
        {
          "output_type": "stream",
          "name": "stdout",
          "text": [
            "Hello Python\n"
          ]
        }
      ]
    },
    {
      "cell_type": "markdown",
      "source": [
        "\n",
        "3. What are pre-defined keywords in Python\n",
        "\n",
        "  - Pre-defined keywords in Python are special words that:\n",
        "\n",
        "* Already have a fixed meaning\n",
        "\n",
        "* Are used by Python itself\n",
        "\n",
        "* You can't use them for naming variables or functions\n",
        "\n",
        "  **Example:**\n",
        "\n",
        "              Keyword                          \tWhat it does  \n",
        "\n",
        "              if\t                         Used to make decisions\n",
        "              else\t                       Used when the if condition is false\n",
        "              for\t                        Used to repeat something (loop)\n",
        "              while\t                      Another way to repeat something\n",
        "              def\t                        Used to create a function\n",
        "              return\t                     Sends a result back from a function\n",
        "              import\t                     Brings in code from other files\n",
        "              True\t                       A value that means “yes” or “correct”\n",
        "              False\t                      A value that means “no” or “wrong”\n",
        "              None\t                       Means “nothing”\n",
        "\n",
        "  **Note** ->\n",
        "             You cannot use these keywords as variable names.\n",
        "\n",
        "\n",
        "  * Like as ->\n",
        "\n",
        "            if = 5   # ❌ Error! \"if\" is a keyword          "
      ],
      "metadata": {
        "id": "WKjELaOnAo4E"
      }
    },
    {
      "cell_type": "markdown",
      "source": [
        "\n",
        "\n",
        "4.  Can keywords be used as variable names.\n",
        "\n",
        "    - No, we cannot use keywords as variable names in Python.\n",
        "\n",
        "      * Because: ->\n",
        "    \n",
        "\n",
        "                          Keywords have a special meaning in Python.\n",
        "                          If you try to use them as variable names, Python will get confused and show an error.\n",
        "\n",
        " * Example:->\n",
        "                 if = 10\n",
        "                 print(if)\n",
        "\n",
        "             # This will show an error because if is a keyword (used for conditions)."
      ],
      "metadata": {
        "id": "XKMn-B0jNYHB"
      }
    },
    {
      "cell_type": "markdown",
      "source": [
        "\n",
        "\n",
        "5.   What is mutability in Python\n",
        "\n",
        "    - Mutability means:\n",
        "                     We can be changed the value of something  after it is created\n",
        "\n",
        "      **Mutable = Changeable**\n",
        "                              You can change the content of a mutable object\n",
        "\n",
        "     **Example – List (Mutable):**\n",
        "\n",
        "                                fruits = [\"apple\", \"banana\"]\n",
        "                                fruits[1] = \"mango\"  # Changed \"banana\" to \"mango\"\n",
        "                                print(fruits)"
      ],
      "metadata": {
        "id": "e-0OpFMdUCcu"
      }
    },
    {
      "cell_type": "markdown",
      "source": [
        "\n",
        "\n",
        "6.   Why are lists mutable, but tuples are immutable\n",
        "     - **Lists are mutable because:**\n",
        "                                \n",
        "\n",
        "*   Python allows you to add, remove, or change items in a list.\n",
        "\n",
        "*   Lists are meant for situations where the data might change\n",
        "   \n",
        "     **Example:**\n",
        "               colors = [\"red\", \"green\", \"blue\"]\n",
        "               colors[0] = \"yellow\"   # You changed \"red\" to \"yellow\"\n",
        "\n",
        "     - **Tuples are immutable because:**\n",
        "\n",
        "*   Tuples are used when you want to protect the data.\n",
        "\n",
        "*   Once a tuple is created, Python locks it — no one can change it.\n",
        "\n",
        "*   It's good for safety and performance (runs faster).\n",
        "  \n",
        "  **Example:**\n",
        "             colors = (\"red\", \"green\", \"blue\")\n",
        "             colors[0] = \"yellow\"   # ❌ Error! Tuples can't be changed\n",
        "\n"
      ],
      "metadata": {
        "id": "t47hA4GxZoUv"
      }
    },
    {
      "cell_type": "markdown",
      "source": [
        "\n",
        "7.   What is the difference between “==” and “is” operators in Python.\n",
        "      - **\"==\" vs \"is\" in Python:**\n",
        "         \n",
        "                Operator              \tMeaning     \t            What it checks\n",
        "                  ==\t                  Equal to\t               Checks if values are same\n",
        "                  is\t                  Is the same object as\t  Checks if memory location is same\n",
        "  \n",
        "        **In simple words:**\n",
        "                          \n",
        "*   == asks: \"Do these two things look the same?\"\n",
        "\n",
        "*   is asks: \"Are these two things the exact same thing?\"\n",
        "\n",
        "\n",
        "\n"
      ],
      "metadata": {
        "id": "_A-DsUMjdJSV"
      }
    },
    {
      "cell_type": "markdown",
      "source": [
        "\n",
        "8.   What are logical operators in Python.\n",
        "      - Logical operators are used to combine conditions or make decisions in Python.\n",
        "      * There are 3 main logical operators:\n",
        "\n",
        "                Operator\t      Meaning\t                  Simple Explanation\n",
        "                  \n",
        "                  and\t        Logical AND\t       True only if both conditions are true\n",
        "                  or\t         Logical OR\t        True if at least one condition is true\n",
        "                  not\t        Logical NOT\t       Reverses the condition (True → False, False → True)\n",
        "\n",
        "       **Examples:**\n",
        "\n",
        "           **and – Both must be true:**\n",
        "                 \n",
        "                 x = 5\n",
        "                 print(x > 2 and x < 10)  # True (5 is greater than 2 AND less than 10)\n",
        "        **or – One is enough:**\n",
        "                x = 5\n",
        "                print(x < 2 or x < 10)  # True (One condition is true)\n",
        "\n",
        "         **not – Reverses the result:**\n",
        "                \n",
        "                x = 5\n",
        "                print(not(x > 2))  # False (x > 2 is True, but `not` makes it False)"
      ],
      "metadata": {
        "id": "UpjIQZ6UgcmF"
      }
    },
    {
      "cell_type": "markdown",
      "source": [
        "\n",
        "9.   What is type casting in Python.\n",
        "      - **Type casting means:**\n",
        "        \n",
        "          * Changing one data type to another.\n",
        "        \n",
        "        For example:\n",
        "        \n",
        "          * Changing a string to an integer\n",
        "\n",
        "          * Changing an integer to a float\n",
        "\n",
        "          * And so on...\n",
        "\n"
      ],
      "metadata": {
        "id": "41BTM3-BmLz_"
      }
    },
    {
      "cell_type": "markdown",
      "source": [
        "\n",
        "\n",
        "10.   What is the difference between implicit and explicit type casting.\n",
        "      \n",
        "       - **Implicit Type Casting (Automatic)**\n",
        "           \n",
        "          *  Python changes the type by itself when needed.\n",
        "\n",
        "                  \n",
        "                  x = 10     # Integer\n",
        "                  y = 2.5    # Float\n",
        "\n",
        "                  z = x + y  # Python automatically converts x to float\n",
        "                  print(z)   # Output: 12.5\n",
        "\n",
        "\n",
        "   - **Explicit Type Casting (Manual)**\n",
        "         \n",
        "  * You convert the type yourself using functions like int(), float(), str().\n",
        "              \n",
        "                a = \"100\"\n",
        "                b = int(a)   # You changed it from string to integer\n",
        "                print(b + 50)  # Output: 150\n",
        "\n",
        "* Implicit = Python handles it.\n",
        "\n",
        "* Explicit = We handle it."
      ],
      "metadata": {
        "id": "4btNGPnYoNA-"
      }
    },
    {
      "cell_type": "markdown",
      "source": [
        "\n",
        "11.   What is the purpose of conditional statements in Python.\n",
        "      - **Conditional statements are used to:**\n",
        "        \n",
        "        * Make decisions in your program.\n",
        "\n",
        "       * They help your code choose what to do based on conditions.\n",
        "\n",
        "  \n",
        "   **Real-Life Example:**\n",
        "    \n",
        "  * \"If it’s raining, take an umbrella. Otherwise, go without it.\"\n",
        "  * That’s a conditional decision\n",
        "               weather = \"rain\"\n",
        "\n",
        "               if weather == \"rain\":\n",
        "                   print(\"Take an umbrella.\")\n",
        "               else:\n",
        "                    print(\"Enjoy the sunshine!\")\n",
        "\n"
      ],
      "metadata": {
        "id": "wu5nOwLwtWha"
      }
    },
    {
      "cell_type": "markdown",
      "source": [
        "\n",
        "12.   How does the elif statement work.\n",
        "      \n",
        "       - **elif stands for:**\n",
        "         *  \"else if\"\n",
        "\n",
        "         * It lets you check more than one condition when using if...else.\n",
        "\n",
        "         *  Sometimes, you have more than two choices.\n",
        "\n",
        "         * elif helps you handle multiple situations, not just yes/no.\n",
        "\n",
        "                       marks = 75\n",
        "\n",
        "                       if marks >= 90:\n",
        "                          print(\"Grade: A\")\n",
        "                       elif marks >= 75:\n",
        "                          print(\"Grade: B\")\n",
        "                       elif marks >= 60:\n",
        "                          print(\"Grade: C\")\n",
        "                       else:\n",
        "                           print(\"Grade: D\")\n",
        "\n"
      ],
      "metadata": {
        "id": "Mh-zvLJtysJf"
      }
    },
    {
      "cell_type": "markdown",
      "source": [
        "\n",
        "13.   What is the difference between for and while loops.\n",
        "\n",
        "      - **Difference Between for and while Loops in Python**\n",
        "             \n",
        "              Feature\t           for loop                      \twhile loop\n",
        "\n",
        "             Used for\t      Repeating a known number of times\tRepeating until a condition is false\n",
        "             Best for\t      Loops over a range, list, etc.\t   Loops when you don’t know how many times\n",
        "             Ends when\t     It finishes going through items\t  The condition becomes false\n"
      ],
      "metadata": {
        "id": "ToIBiOAJ1AOK"
      }
    },
    {
      "cell_type": "markdown",
      "source": [
        "\n",
        "14.   Describe a scenario where a while loop is more suitable than a for loop.\n",
        "\n",
        "       - **Scenario: Keep asking the user for the correct password**\n",
        "         \n",
        "          * Suppose you're building a login system.\n",
        "             \n",
        "            You don’t know how many times the user will enter the wrong password.\n",
        "\n",
        "            You want to keep asking until they get it right.\n",
        "\n",
        "         **Perfect Use Case for while Loop:**\n",
        "\n",
        "                       password = \"\"\n",
        "\n",
        "                       while password != \"python123\":\n",
        "                       password = input(\"Enter your password: \")\n",
        "\n",
        "                       print(\"Access granted!\")\n",
        "\n"
      ],
      "metadata": {
        "id": "-jRhh0gD2-7i"
      }
    },
    {
      "cell_type": "code",
      "source": [],
      "metadata": {
        "id": "S4sYA-gnMdLv"
      },
      "execution_count": 3,
      "outputs": []
    },
    {
      "cell_type": "markdown",
      "source": [
        "  # Practical Questions\n",
        "\n",
        "---\n",
        "\n",
        "\n",
        "1.    Write a Python program to print \"Hello, World\".\n"
      ],
      "metadata": {
        "id": "IYsGybQp5NBq"
      }
    },
    {
      "cell_type": "code",
      "source": [
        "print(\"Hello, World\")"
      ],
      "metadata": {
        "colab": {
          "base_uri": "https://localhost:8080/"
        },
        "id": "VGuJ1LQWMgG0",
        "outputId": "cc58b4be-8102-4664-8bfa-c865736aedb1"
      },
      "execution_count": 4,
      "outputs": [
        {
          "output_type": "stream",
          "name": "stdout",
          "text": [
            "Hello, World\n"
          ]
        }
      ]
    },
    {
      "cell_type": "markdown",
      "source": [
        "\n",
        "2.   **Write a Python program that displays your name and age.**"
      ],
      "metadata": {
        "id": "Tt9YuT5C6SH9"
      }
    },
    {
      "cell_type": "code",
      "source": [
        "name = \"Sumit\"\n",
        "age = 22\n",
        "\n",
        "print(\"My name is\", name)\n",
        "print(\"I am\", age, \"years old\")"
      ],
      "metadata": {
        "colab": {
          "base_uri": "https://localhost:8080/"
        },
        "id": "-Q-fuGHH6Gqm",
        "outputId": "1515687d-c63a-4b28-d7be-5c489c31dbdd"
      },
      "execution_count": 5,
      "outputs": [
        {
          "output_type": "stream",
          "name": "stdout",
          "text": [
            "My name is Sumit\n",
            "I am 22 years old\n"
          ]
        }
      ]
    },
    {
      "cell_type": "markdown",
      "source": [
        "\n",
        "\n",
        "3.   **Write code to print all the pre-defined keywords in Python using the keyword library.**\n",
        "\n",
        "\n",
        "\n"
      ],
      "metadata": {
        "id": "O43BUBGB7AXr"
      }
    },
    {
      "cell_type": "code",
      "source": [
        "import keyword\n",
        "\n",
        "print(\"Python keywords are:\")\n",
        "print(keyword.kwlist)"
      ],
      "metadata": {
        "colab": {
          "base_uri": "https://localhost:8080/"
        },
        "id": "DP7vQa8W68CS",
        "outputId": "084ded4b-0b97-4c2a-cbdf-360f1419f588"
      },
      "execution_count": 10,
      "outputs": [
        {
          "output_type": "stream",
          "name": "stdout",
          "text": [
            "Python keywords are:\n",
            "['False', 'None', 'True', 'and', 'as', 'assert', 'async', 'await', 'break', 'class', 'continue', 'def', 'del', 'elif', 'else', 'except', 'finally', 'for', 'from', 'global', 'if', 'import', 'in', 'is', 'lambda', 'nonlocal', 'not', 'or', 'pass', 'raise', 'return', 'try', 'while', 'with', 'yield']\n"
          ]
        }
      ]
    },
    {
      "cell_type": "markdown",
      "source": [
        "\n",
        "\n",
        "\n",
        "\n",
        "4.    **Write a program that checks if a given word is a Python keyword.**\n",
        "\n"
      ],
      "metadata": {
        "id": "7vvjhvBn78fI"
      }
    },
    {
      "cell_type": "code",
      "source": [
        "import keyword\n",
        "\n",
        "# Ask the user to enter a word\n",
        "word = input(\"Enter a word: \")\n",
        "\n",
        "# Check if it's a Python keyword\n",
        "if keyword.iskeyword(word):\n",
        "    print(f\"'{word}' is a Python keyword.\")\n",
        "else:\n",
        "    print(f\"'{word}' is NOT a Python keyword.\")"
      ],
      "metadata": {
        "colab": {
          "base_uri": "https://localhost:8080/"
        },
        "id": "KPnLTZ4H7oD4",
        "outputId": "c0d8be7b-67bc-48d0-d1bd-71c2f948e5b9"
      },
      "execution_count": 12,
      "outputs": [
        {
          "output_type": "stream",
          "name": "stdout",
          "text": [
            "Enter a word: for\n",
            "'for' is a Python keyword.\n"
          ]
        }
      ]
    },
    {
      "cell_type": "markdown",
      "source": [
        "\n",
        "\n",
        "\n",
        "5.   **Create a list and tuple in Python, and demonstrate how attempting to change an element works differently for each.**\n",
        "\n"
      ],
      "metadata": {
        "id": "2iYLhEOE8ywN"
      }
    },
    {
      "cell_type": "code",
      "source": [
        "# Create a list\n",
        "my_list = [10, 20, 30]\n",
        "print(\"Original list:\", my_list)\n",
        "\n",
        "# Change the second element\n",
        "my_list[1] = 99\n",
        "print(\"Modified list:\", my_list)\n",
        "\n",
        "# Create a tuple\n",
        "my_tuple = (10, 20, 30)\n",
        "print(\"Original tuple:\", my_tuple)\n",
        "\n",
        "# Try to change the second element of the tuple\n",
        "my_tuple[1] = 99  # This will cause an error!"
      ],
      "metadata": {
        "colab": {
          "base_uri": "https://localhost:8080/",
          "height": 228
        },
        "id": "uaBAazLL8Xzx",
        "outputId": "6bd0db2c-d35b-4a50-dd8a-f9f8175a822f"
      },
      "execution_count": 13,
      "outputs": [
        {
          "output_type": "stream",
          "name": "stdout",
          "text": [
            "Original list: [10, 20, 30]\n",
            "Modified list: [10, 99, 30]\n",
            "Original tuple: (10, 20, 30)\n"
          ]
        },
        {
          "output_type": "error",
          "ename": "TypeError",
          "evalue": "'tuple' object does not support item assignment",
          "traceback": [
            "\u001b[0;31m---------------------------------------------------------------------------\u001b[0m",
            "\u001b[0;31mTypeError\u001b[0m                                 Traceback (most recent call last)",
            "\u001b[0;32m<ipython-input-13-da2f831790d5>\u001b[0m in \u001b[0;36m<cell line: 0>\u001b[0;34m()\u001b[0m\n\u001b[1;32m     12\u001b[0m \u001b[0;34m\u001b[0m\u001b[0m\n\u001b[1;32m     13\u001b[0m \u001b[0;31m# Try to change the second element of the tuple\u001b[0m\u001b[0;34m\u001b[0m\u001b[0;34m\u001b[0m\u001b[0m\n\u001b[0;32m---> 14\u001b[0;31m \u001b[0mmy_tuple\u001b[0m\u001b[0;34m[\u001b[0m\u001b[0;36m1\u001b[0m\u001b[0;34m]\u001b[0m \u001b[0;34m=\u001b[0m \u001b[0;36m99\u001b[0m  \u001b[0;31m# This will cause an error!\u001b[0m\u001b[0;34m\u001b[0m\u001b[0;34m\u001b[0m\u001b[0m\n\u001b[0m",
            "\u001b[0;31mTypeError\u001b[0m: 'tuple' object does not support item assignment"
          ]
        }
      ]
    },
    {
      "cell_type": "markdown",
      "source": [
        "\n",
        "\n",
        "\n",
        "\n",
        "6.   **Write a function to demonstrate the behavior of mutable and immutable arguments.**\n",
        "\n"
      ],
      "metadata": {
        "id": "LEjYxio68vnr"
      }
    },
    {
      "cell_type": "code",
      "source": [
        "def change_values(a, b):\n",
        "    print(\"\\nInside the function:\")\n",
        "\n",
        "    # Try changing the immutable (int)\n",
        "    a = a + 10\n",
        "    print(\"Changed 'a' to:\", a)\n",
        "\n",
        "    # Try changing the mutable (list)\n",
        "    b.append(100)\n",
        "    print(\"Appended 100 to 'b':\", b)\n",
        "\n",
        "\n",
        "# Immutable argument (int)\n",
        "x = 5\n",
        "\n",
        "# Mutable argument (list)\n",
        "y = [1, 2, 3]\n",
        "\n",
        "print(\"Before function call:\")\n",
        "print(\"x =\", x)\n",
        "print(\"y =\", y)\n",
        "\n",
        "# Call the function\n",
        "change_values(x, y)\n",
        "\n",
        "print(\"\\nAfter function call:\")\n",
        "print(\"x =\", x)   # Will remain unchanged\n",
        "print(\"y =\", y)   # Will be changed"
      ],
      "metadata": {
        "colab": {
          "base_uri": "https://localhost:8080/"
        },
        "id": "3GvKK3b3-Q3E",
        "outputId": "8bc62602-1dab-4e20-9d42-96845e4e2514"
      },
      "execution_count": 14,
      "outputs": [
        {
          "output_type": "stream",
          "name": "stdout",
          "text": [
            "Before function call:\n",
            "x = 5\n",
            "y = [1, 2, 3]\n",
            "\n",
            "Inside the function:\n",
            "Changed 'a' to: 15\n",
            "Appended 100 to 'b': [1, 2, 3, 100]\n",
            "\n",
            "After function call:\n",
            "x = 5\n",
            "y = [1, 2, 3, 100]\n"
          ]
        }
      ]
    },
    {
      "cell_type": "markdown",
      "source": [
        "\n",
        "\n",
        "\n",
        "7.    **Write a program that performs basic arithmetic operations on two user-input numbers.**\n",
        "\n"
      ],
      "metadata": {
        "id": "qpuaDvb3-nSU"
      }
    },
    {
      "cell_type": "code",
      "source": [
        "# Get input from the user\n",
        "num1 = float(input(\"Enter the first number: \"))\n",
        "num2 = float(input(\"Enter the second number: \"))\n",
        "\n",
        "# Perform arithmetic operations\n",
        "print(\"\\nResults:\")\n",
        "print(f\"Addition: {num1} + {num2} = {num1 + num2}\")\n",
        "print(f\"Subtraction: {num1} - {num2} = {num1 - num2}\")\n",
        "print(f\"Multiplication: {num1} * {num2} = {num1 * num2}\")\n",
        "\n",
        "# Check if second number is not zero before dividing\n",
        "if num2 != 0:\n",
        "    print(f\"Division: {num1} / {num2} = {num1 / num2}\")\n",
        "else:\n",
        "    print(\"Division: Cannot divide by zero!\")"
      ],
      "metadata": {
        "colab": {
          "base_uri": "https://localhost:8080/"
        },
        "id": "UKJa1h5m-itC",
        "outputId": "aa3f9f8b-54da-48de-b496-f738961b195e"
      },
      "execution_count": 15,
      "outputs": [
        {
          "output_type": "stream",
          "name": "stdout",
          "text": [
            "Enter the first number: 25\n",
            "Enter the second number: 5\n",
            "\n",
            "Results:\n",
            "Addition: 25.0 + 5.0 = 30.0\n",
            "Subtraction: 25.0 - 5.0 = 20.0\n",
            "Multiplication: 25.0 * 5.0 = 125.0\n",
            "Division: 25.0 / 5.0 = 5.0\n"
          ]
        }
      ]
    },
    {
      "cell_type": "markdown",
      "source": [
        "\n",
        "\n",
        "\n",
        "\n",
        "8.   **Write a program to demonstrate the use of logical operators.**\n",
        "\n"
      ],
      "metadata": {
        "id": "bYNUKBFd_pzZ"
      }
    },
    {
      "cell_type": "code",
      "source": [
        "# Take input from user\n",
        "age = int(input(\"Enter your age: \"))\n",
        "has_id = input(\"Do you have an ID? (yes/no): \")\n",
        "\n",
        "# Convert ID input to boolean\n",
        "has_id = has_id.lower() == \"yes\"\n",
        "\n",
        "# Logical AND: age must be 18+ AND must have ID\n",
        "if age >= 18 and has_id:\n",
        "    print(\"✅ Access granted (AND condition passed)\")\n",
        "else:\n",
        "    print(\"❌ Access denied (AND condition failed)\")\n",
        "\n",
        "# Logical OR: either age is 18+ OR has ID\n",
        "if age >= 18 or has_id:\n",
        "    print(\"✅ You meet at least one condition (OR passed)\")\n",
        "else:\n",
        "    print(\"❌ You meet neither condition (OR failed)\")\n",
        "\n",
        "# Logical NOT: show opposite of has_id\n",
        "if not has_id:\n",
        "    print(\"🔒 You do NOT have an ID (NOT is True)\")\n",
        "else:\n",
        "    print(\"🔓 You HAVE an ID (NOT is False)\")"
      ],
      "metadata": {
        "colab": {
          "base_uri": "https://localhost:8080/"
        },
        "id": "s1LZneZH_eus",
        "outputId": "6be1ae21-055d-4348-a295-803909c515e2"
      },
      "execution_count": 18,
      "outputs": [
        {
          "output_type": "stream",
          "name": "stdout",
          "text": [
            "Enter your age: 22\n",
            "Do you have an ID? (yes/no): yes\n",
            "✅ Access granted (AND condition passed)\n",
            "✅ You meet at least one condition (OR passed)\n",
            "🔓 You HAVE an ID (NOT is False)\n"
          ]
        }
      ]
    },
    {
      "cell_type": "markdown",
      "source": [
        "\n",
        "\n",
        "\n",
        "\n",
        "9.    **Write a Python program to convert user input from string to integer, float, and boolean types.**\n",
        "\n"
      ],
      "metadata": {
        "id": "qAXOMDBgAjYi"
      }
    },
    {
      "cell_type": "code",
      "source": [
        "# Take input from the user (input is always a string)\n",
        "user_input = input(\"Enter something: \")\n",
        "\n",
        "# Convert to integer\n",
        "try:\n",
        "    int_value = int(user_input)\n",
        "    print(\"As Integer:\", int_value)\n",
        "except ValueError:\n",
        "    print(\"Cannot convert to Integer\")\n",
        "\n",
        "# Convert to float\n",
        "try:\n",
        "    float_value = float(user_input)\n",
        "    print(\"As Float:\", float_value)\n",
        "except ValueError:\n",
        "    print(\"Cannot convert to Float\")\n",
        "\n",
        "# Convert to boolean\n",
        "bool_value = bool(user_input)\n",
        "print(\"As Boolean:\", bool_value)"
      ],
      "metadata": {
        "colab": {
          "base_uri": "https://localhost:8080/"
        },
        "id": "XwdJhqVyAL1y",
        "outputId": "bd0e3f88-91b6-4573-c523-3483584c63a4"
      },
      "execution_count": 19,
      "outputs": [
        {
          "output_type": "stream",
          "name": "stdout",
          "text": [
            "Enter something: 25\n",
            "As Integer: 25\n",
            "As Float: 25.0\n",
            "As Boolean: True\n"
          ]
        }
      ]
    },
    {
      "cell_type": "markdown",
      "source": [
        "\n",
        "\n",
        "\n",
        "10.   **Write code to demonstrate type casting with list elements.**\n",
        "\n"
      ],
      "metadata": {
        "id": "hO_7o3QjBNlh"
      }
    },
    {
      "cell_type": "code",
      "source": [
        "# Original list with string numbers\n",
        "str_list = ['10', '20', '30', '40']\n",
        "\n",
        "print(\"Original list (strings):\", str_list)\n",
        "\n",
        "# Convert each element to integer\n",
        "int_list = [int(item) for item in str_list]\n",
        "print(\"Converted to integers:\", int_list)\n",
        "\n",
        "# Convert each element to float\n",
        "float_list = [float(item) for item in str_list]\n",
        "print(\"Converted to floats:\", float_list)\n",
        "\n",
        "# Convert to boolean (non-empty strings = True)\n",
        "bool_list = [bool(item) for item in str_list]\n",
        "print(\"Converted to booleans:\", bool_list)"
      ],
      "metadata": {
        "colab": {
          "base_uri": "https://localhost:8080/"
        },
        "id": "_JLUR35ZBID8",
        "outputId": "8c4a4005-d796-4dcb-c506-9c0ab0460427"
      },
      "execution_count": 20,
      "outputs": [
        {
          "output_type": "stream",
          "name": "stdout",
          "text": [
            "Original list (strings): ['10', '20', '30', '40']\n",
            "Converted to integers: [10, 20, 30, 40]\n",
            "Converted to floats: [10.0, 20.0, 30.0, 40.0]\n",
            "Converted to booleans: [True, True, True, True]\n"
          ]
        }
      ]
    },
    {
      "cell_type": "markdown",
      "source": [
        "\n",
        "\n",
        "\n",
        "\n",
        "11.   **Write a program that checks if a number is positive, negative, or zero.**\n",
        "\n"
      ],
      "metadata": {
        "id": "8yjJBa0TByLW"
      }
    },
    {
      "cell_type": "code",
      "source": [
        "# Get input from the user\n",
        "num = float(input(\"Enter a number: \"))\n",
        "\n",
        "# Check the condition\n",
        "if num > 0:\n",
        "    print(\"The number is Positive.\")\n",
        "elif num < 0:\n",
        "    print(\"The number is Negative.\")\n",
        "else:\n",
        "    print(\"The number is Zero.\")"
      ],
      "metadata": {
        "colab": {
          "base_uri": "https://localhost:8080/"
        },
        "id": "Hqbv3hmDBvUb",
        "outputId": "d816b965-6643-459a-a931-c1b936542590"
      },
      "execution_count": 21,
      "outputs": [
        {
          "output_type": "stream",
          "name": "stdout",
          "text": [
            "Enter a number: 15\n",
            "The number is Positive.\n"
          ]
        }
      ]
    },
    {
      "cell_type": "markdown",
      "source": [
        "\n",
        "\n",
        "12.  **Write a for loop to print numbers from 1 to 10.**\n",
        "\n",
        "\n"
      ],
      "metadata": {
        "id": "pXhlZ9AaCiJy"
      }
    },
    {
      "cell_type": "code",
      "source": [
        "for i in range(1, 11):\n",
        "    print(i)"
      ],
      "metadata": {
        "colab": {
          "base_uri": "https://localhost:8080/"
        },
        "id": "P_PMjBVECU__",
        "outputId": "155a0c59-7663-4d87-d32c-a90818761fdc"
      },
      "execution_count": 22,
      "outputs": [
        {
          "output_type": "stream",
          "name": "stdout",
          "text": [
            "1\n",
            "2\n",
            "3\n",
            "4\n",
            "5\n",
            "6\n",
            "7\n",
            "8\n",
            "9\n",
            "10\n"
          ]
        }
      ]
    },
    {
      "cell_type": "markdown",
      "source": [
        "\n",
        "\n",
        "13.    **Write a Python program to find the sum of all even numbers between 1 and 50.**\n",
        "\n",
        "\n",
        "\n"
      ],
      "metadata": {
        "id": "bsqwANCjDZYD"
      }
    },
    {
      "cell_type": "code",
      "source": [
        "# Initialize sum variable\n",
        "even_sum = 0\n",
        "\n",
        "# Loop through numbers from 1 to 50\n",
        "for num in range(1, 51):\n",
        "    if num % 2 == 0:\n",
        "        even_sum += num\n",
        "\n",
        "# Print the result\n",
        "print(\"The sum of all even numbers from 1 to 50 is:\", even_sum)"
      ],
      "metadata": {
        "colab": {
          "base_uri": "https://localhost:8080/"
        },
        "id": "VNFECHnkEO5z",
        "outputId": "9327bfe2-c18a-46ad-d1a5-c0b66ed038cf"
      },
      "execution_count": 23,
      "outputs": [
        {
          "output_type": "stream",
          "name": "stdout",
          "text": [
            "The sum of all even numbers from 1 to 50 is: 650\n"
          ]
        }
      ]
    },
    {
      "cell_type": "markdown",
      "source": [
        "\n",
        "\n",
        "\n",
        "14.    **Write a program to reverse a string using a while loop.**\n",
        "\n",
        "\n"
      ],
      "metadata": {
        "id": "U0AfTXvhEI9N"
      }
    },
    {
      "cell_type": "code",
      "source": [
        "# Take input from the user\n",
        "text = input(\"Enter a string: \")\n",
        "\n",
        "# Initialize variables\n",
        "reversed_text = \"\"\n",
        "index = len(text) - 1\n",
        "\n",
        "# Loop from the end of the string to the beginning\n",
        "while index >= 0:\n",
        "    reversed_text += text[index]\n",
        "    index -= 1\n",
        "\n",
        "# Display the reversed string\n",
        "print(\"Reversed string:\", reversed_text)"
      ],
      "metadata": {
        "colab": {
          "base_uri": "https://localhost:8080/"
        },
        "id": "LJ2uJV7JDVOw",
        "outputId": "c4614dda-35d0-4358-842e-3d395fdef3dd"
      },
      "execution_count": 24,
      "outputs": [
        {
          "output_type": "stream",
          "name": "stdout",
          "text": [
            "Enter a string: sumit\n",
            "Reversed string: timus\n"
          ]
        }
      ]
    },
    {
      "cell_type": "markdown",
      "source": [
        "\n",
        "\n",
        "\n",
        "15.    **Write a Python program to calculate the factorial of a number provided by the user using a while loop.**\n",
        "\n"
      ],
      "metadata": {
        "id": "y4dqEAvgGRaN"
      }
    },
    {
      "cell_type": "code",
      "source": [
        " # Take input from the user\n",
        "num = int(input(\"Enter a number: \"))\n",
        "\n",
        "# Check for negative input\n",
        "if num < 0:\n",
        "    print(\"Factorial does not exist for negative numbers.\")\n",
        "elif num == 0:\n",
        "    print(\"The factorial of 0 is 1.\")\n",
        "else:\n",
        "    factorial = 1\n",
        "    i = 1\n",
        "\n",
        "    # Calculate factorial using while loop\n",
        "    while i <= num:\n",
        "        factorial *= i\n",
        "        i += 1\n",
        "\n",
        "    print(f\"The factorial of {num} is {factorial}.\")"
      ],
      "metadata": {
        "colab": {
          "base_uri": "https://localhost:8080/"
        },
        "id": "qsys-6cXGTDJ",
        "outputId": "a4bcda4e-cb02-436e-c825-5f882c8e4589"
      },
      "execution_count": 25,
      "outputs": [
        {
          "output_type": "stream",
          "name": "stdout",
          "text": [
            "Enter a number: 6\n",
            "The factorial of 6 is 720.\n"
          ]
        }
      ]
    },
    {
      "cell_type": "markdown",
      "source": [],
      "metadata": {
        "id": "1ilc3FYiGRMs"
      }
    },
    {
      "cell_type": "code",
      "source": [],
      "metadata": {
        "id": "5lXUa4sQF0qR"
      },
      "execution_count": null,
      "outputs": []
    }
  ]
}